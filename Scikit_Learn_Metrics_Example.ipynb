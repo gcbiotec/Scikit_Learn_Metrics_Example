{
  "nbformat": 4,
  "nbformat_minor": 0,
  "metadata": {
    "colab": {
      "provenance": []
    },
    "kernelspec": {
      "name": "python3",
      "display_name": "Python 3"
    },
    "language_info": {
      "name": "python"
    }
  },
  "cells": [
    {
      "cell_type": "code",
      "execution_count": 30,
      "metadata": {
        "id": "tjZpBqhv_ydW"
      },
      "outputs": [],
      "source": [
        "import numpy as np\n",
        "import itertools\n",
        "import sklearn\n",
        "import matplotlib"
      ]
    },
    {
      "cell_type": "code",
      "source": [
        "import matplotlib.pyplot as plt\n",
        "\n",
        "from sklearn.datasets import make_classification\n",
        "from sklearn.model_selection import train_test_split\n",
        "from sklearn.metrics import confusion_matrix, roc_curve, precision_score, recall_score, f1_score, accuracy_score, RocCurveDisplay, auc\n",
        "\n",
        "from xgboost import XGBClassifier"
      ],
      "metadata": {
        "id": "IrqCMXUCC8_m"
      },
      "execution_count": 48,
      "outputs": []
    },
    {
      "cell_type": "code",
      "source": [
        "sklearn.__version__, matplotlib.__version__, np.__version__"
      ],
      "metadata": {
        "colab": {
          "base_uri": "https://localhost:8080/"
        },
        "id": "7oOe-cnNdCp7",
        "outputId": "63641da2-e983-44f2-c0ca-1b1a5dfc79b2"
      },
      "execution_count": 32,
      "outputs": [
        {
          "output_type": "execute_result",
          "data": {
            "text/plain": [
              "('1.2.2', '3.7.1', '1.23.5')"
            ]
          },
          "metadata": {},
          "execution_count": 32
        }
      ]
    },
    {
      "cell_type": "code",
      "source": [
        "# Let's use a resource of the sklearn library and generate a random n-class classification problem.\n",
        "X, y = make_classification(\n",
        "    n_samples=10000,\n",
        "    n_features=25,\n",
        "    n_informative=10,\n",
        "    n_redundant=0,\n",
        "    n_classes=2)"
      ],
      "metadata": {
        "id": "7Z8N3wUUded1"
      },
      "execution_count": 33,
      "outputs": []
    },
    {
      "cell_type": "code",
      "source": [
        "# Divinding between train and test:\n",
        "X_train, X_test, y_train, y_test = train_test_split(X, y, test_size=0.33)"
      ],
      "metadata": {
        "id": "xGx7QJSbgaap"
      },
      "execution_count": 34,
      "outputs": []
    },
    {
      "cell_type": "code",
      "source": [
        "# Instantiate the model to classifificaton:\n",
        "classif = XGBClassifier()\n",
        "# Trainng the model:\n",
        "classif.fit(X_train,y_train)\n",
        "# Making predictions:\n",
        "y_pred = classif.predict(X_test)"
      ],
      "metadata": {
        "id": "9l8oDjt0i_Pu"
      },
      "execution_count": 35,
      "outputs": []
    },
    {
      "cell_type": "markdown",
      "source": [
        "Confusion Matrix:"
      ],
      "metadata": {
        "id": "1Mn-WB-YnymB"
      }
    },
    {
      "cell_type": "code",
      "source": [
        "matrix = confusion_matrix(y_test,y_pred)\n",
        "matrix"
      ],
      "metadata": {
        "colab": {
          "base_uri": "https://localhost:8080/"
        },
        "id": "igq_C8MokpZk",
        "outputId": "cd685370-2d82-4c36-b6a4-76e6fd095cb9"
      },
      "execution_count": 36,
      "outputs": [
        {
          "output_type": "execute_result",
          "data": {
            "text/plain": [
              "array([[1608,   75],\n",
              "       [  87, 1530]])"
            ]
          },
          "metadata": {},
          "execution_count": 36
        }
      ]
    },
    {
      "cell_type": "markdown",
      "source": [
        "Accuracy"
      ],
      "metadata": {
        "id": "_V1s-Mtuo7S0"
      }
    },
    {
      "cell_type": "code",
      "source": [
        "accuracy = accuracy_score(y_test,y_pred)\n",
        "accuracy"
      ],
      "metadata": {
        "colab": {
          "base_uri": "https://localhost:8080/"
        },
        "id": "GBogQO19n7LV",
        "outputId": "864a05c0-83b2-4e2e-af17-0deec7883648"
      },
      "execution_count": 37,
      "outputs": [
        {
          "output_type": "execute_result",
          "data": {
            "text/plain": [
              "0.9509090909090909"
            ]
          },
          "metadata": {},
          "execution_count": 37
        }
      ]
    },
    {
      "cell_type": "markdown",
      "source": [
        "Precision"
      ],
      "metadata": {
        "id": "H84BfbHfpXzw"
      }
    },
    {
      "cell_type": "code",
      "source": [
        "precision = precision_score(y_test,y_pred,average='micro')\n",
        "precision"
      ],
      "metadata": {
        "colab": {
          "base_uri": "https://localhost:8080/"
        },
        "id": "_8XRtod0o5-c",
        "outputId": "0c66985e-63cd-41e1-e08a-044518d94f18"
      },
      "execution_count": 38,
      "outputs": [
        {
          "output_type": "execute_result",
          "data": {
            "text/plain": [
              "0.9509090909090909"
            ]
          },
          "metadata": {},
          "execution_count": 38
        }
      ]
    },
    {
      "cell_type": "markdown",
      "source": [
        "Recall / Sensibilidade"
      ],
      "metadata": {
        "id": "hl79S49KrDTi"
      }
    },
    {
      "cell_type": "code",
      "source": [
        "recall = recall_score(y_test,y_pred,average='micro')\n",
        "recall"
      ],
      "metadata": {
        "colab": {
          "base_uri": "https://localhost:8080/"
        },
        "id": "F2CIIgHiqCaI",
        "outputId": "b65d6979-c8de-41c4-dfbf-71ec7743723f"
      },
      "execution_count": 39,
      "outputs": [
        {
          "output_type": "execute_result",
          "data": {
            "text/plain": [
              "0.9509090909090909"
            ]
          },
          "metadata": {},
          "execution_count": 39
        }
      ]
    },
    {
      "cell_type": "markdown",
      "source": [
        "F1 Score"
      ],
      "metadata": {
        "id": "NNmqcvJSzjU7"
      }
    },
    {
      "cell_type": "code",
      "source": [
        "f1_score = f1_score(y_test,y_pred)\n",
        "f1_score"
      ],
      "metadata": {
        "colab": {
          "base_uri": "https://localhost:8080/"
        },
        "id": "VMhh8RpZzisS",
        "outputId": "ecce3e0a-652b-475c-a21a-04e19f76a1cb"
      },
      "execution_count": 53,
      "outputs": [
        {
          "output_type": "execute_result",
          "data": {
            "text/plain": [
              "0.9497206703910613"
            ]
          },
          "metadata": {},
          "execution_count": 53
        }
      ]
    },
    {
      "cell_type": "markdown",
      "source": [
        "# ROC Curve:"
      ],
      "metadata": {
        "id": "veV_Nkdat-je"
      }
    },
    {
      "cell_type": "code",
      "source": [
        "roc = roc_curve(y_test,y_pred)\n",
        "roc"
      ],
      "metadata": {
        "colab": {
          "base_uri": "https://localhost:8080/"
        },
        "id": "GfLqPJaHoD4Z",
        "outputId": "e583e64b-4619-4ee4-8588-31c3ff036c9e"
      },
      "execution_count": 41,
      "outputs": [
        {
          "output_type": "execute_result",
          "data": {
            "text/plain": [
              "(array([0.        , 0.04456328, 1.        ]),\n",
              " array([0.        , 0.94619666, 1.        ]),\n",
              " array([2, 1, 0]))"
            ]
          },
          "metadata": {},
          "execution_count": 41
        }
      ]
    },
    {
      "cell_type": "markdown",
      "source": [
        "We can determine the True Positive (TPR) and False Positive (FPR):"
      ],
      "metadata": {
        "id": "0qYBV5k_vsAL"
      }
    },
    {
      "cell_type": "code",
      "source": [
        "fpr, tpr, thresholds = roc_curve(y_test, y_pred)"
      ],
      "metadata": {
        "id": "Ae14idjIuI3A"
      },
      "execution_count": 43,
      "outputs": []
    },
    {
      "cell_type": "markdown",
      "source": [
        "Area under curve:"
      ],
      "metadata": {
        "id": "bcrm2UbxwGXt"
      }
    },
    {
      "cell_type": "code",
      "source": [
        "roc_auc = auc(fpr, tpr)\n",
        "display = RocCurveDisplay(fpr=fpr, tpr=tpr, roc_auc=roc_auc, estimator_name='XGBoost Classifier')\n",
        "display.plot()\n",
        "plt.show()"
      ],
      "metadata": {
        "colab": {
          "base_uri": "https://localhost:8080/",
          "height": 449
        },
        "id": "6mdp74uSvT4M",
        "outputId": "8bc13453-9612-48d5-8957-e504f5b6563b"
      },
      "execution_count": 52,
      "outputs": [
        {
          "output_type": "display_data",
          "data": {
            "text/plain": [
              "<Figure size 640x480 with 1 Axes>"
            ],
            "image/png": "[encoded data removed]"
          },
          "metadata": {}
        }
      ]
    }
  ]
}